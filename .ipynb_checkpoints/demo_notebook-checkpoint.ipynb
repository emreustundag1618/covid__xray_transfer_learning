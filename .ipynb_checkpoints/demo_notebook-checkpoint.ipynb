{
 "cells": [
  {
   "cell_type": "markdown",
   "id": "8bb7dea4-2986-4069-bc4c-28f3ea13969e",
   "metadata": {},
   "source": [
    "## COVID-19 Findings on Pulmonary X-Ray Images for Classifications\n",
    "### Table of Content\n",
    "* [Introduction](#1)\n",
    "* [Libraries](#2)\n",
    "* [Transfer Models](#3)\n",
    "* [Controller](#4)\n",
    "* [Functions](#5)\n",
    "* [Data Preparation](#6)\n",
    "* [Image Generating](#7)\n",
    "* [Transfer Model Preparation](#8)\n",
    "* [Choosing Classifier](#9)\n",
    "* [Result Graphs](#10)"
   ]
  },
  {
   "cell_type": "markdown",
   "id": "d686c1bb-594b-45cc-aef1-3963ea5125ef",
   "metadata": {},
   "source": [
    "### Introduction"
   ]
  },
  {
   "cell_type": "markdown",
   "id": "85d79bb3-46e2-414e-a8d4-a3958a12624c",
   "metadata": {},
   "source": [
    "<a id = 1></a>\n",
    "### Libraries"
   ]
  },
  {
   "cell_type": "code",
   "execution_count": 1,
   "id": "1956a819-06b5-4741-9f55-41a882e71515",
   "metadata": {},
   "outputs": [],
   "source": [
    "import pandas as pd\n",
    "import numpy as np\n",
    "import matplotlib.pyplot as plt\n",
    "import seaborn as sns\n",
    "from sklearn.metrics import accuracy_score, confusion_matrix\n",
    "from sklearn.model_selection import GridSearchCV, StratifiedKFold\n",
    "from sklearn.svm import SVC\n",
    "from skimage import exposure\n",
    "\n",
    "from tensorflow.keras import layers\n",
    "from tensorflow.keras.layers import Input, Dense, Flatten, Conv2D, MaxPooling2D, Dropout, GlobalAveragePooling2D\n",
    "from tensorflow.keras.optimizers import Adam\n",
    "from tensorflow.keras import models\n",
    "from tensorflow.keras.callbacks import ReduceLROnPlateau, ModelCheckpoint,  EarlyStopping\n",
    "from tensorflow.keras.models import Model\n",
    "from tensorflow.keras.preprocessing.image import ImageDataGenerator\n",
    "\n",
    "from tensorflow.keras.applications import VGG16, VGG19, InceptionV3, NASNetMobile, NASNetLarge, DenseNet121, ResNet50, Xception, InceptionResNetV2\n",
    "\n",
    "import importlib\n",
    "from skimage import exposure\n",
    "\n",
    "import warnings\n",
    "warnings.filterwarnings(\"ignore\")"
   ]
  },
  {
   "cell_type": "markdown",
   "id": "b3a1c56c-289c-4fb3-b7ec-549e79fb47aa",
   "metadata": {},
   "source": [
    "<a id=2></a>\n",
    "### Transfer Models"
   ]
  },
  {
   "cell_type": "code",
   "execution_count": 2,
   "id": "cb991d99-f4aa-4a95-a139-384ce50f6366",
   "metadata": {
    "tags": []
   },
   "outputs": [],
   "source": [
    "def get_models():\n",
    "    \n",
    "    models_ = dict(\n",
    "                    VGG16 = dict(\n",
    "                        input_shape = (224,224,3),\n",
    "                        module_name = \"vgg16\",\n",
    "                        last_conv_layer = \"block5_conv3\",\n",
    "                    ),\n",
    "                    VGG19 = dict(\n",
    "                        input_shape = (224,224,3),\n",
    "                        module_name = \"vgg19\",\n",
    "                        last_conv_layer = \"block5_conv4\",\n",
    "                    ),\n",
    "                    # this is used for ChexNet\n",
    "                    DenseNet121=dict(\n",
    "                        input_shape=(224, 224, 3),\n",
    "                        module_name=\"densenet\",\n",
    "                        last_conv_layer=\"conv5_block16_concat\",\n",
    "                    ),\n",
    "                    ResNet50=dict(\n",
    "                        input_shape=(224, 224, 3),\n",
    "                        module_name=\"resnet50\",\n",
    "                        last_conv_layer=\"conv5_block3_out\",\n",
    "                    ),\n",
    "                    InceptionV3=dict(\n",
    "                        input_shape=(299, 299, 3),\n",
    "                        module_name=\"inception_v3\",\n",
    "                        last_conv_layer=\"mixed10\",\n",
    "                    ),\n",
    "                    InceptionResNetV2=dict(\n",
    "                        input_shape=(299, 299, 3),\n",
    "                        module_name=\"inception_resnet_v2\",\n",
    "                        last_conv_layer=\"conv_7b_bn\",\n",
    "                    ),\n",
    "                    NASNetMobile=dict(\n",
    "                        input_shape=(224, 224, 3),\n",
    "                        module_name=\"nasnet\",\n",
    "                        last_conv_layer=\"normal_concat_12\",\n",
    "                    ),\n",
    "                    NASNetLarge=dict(\n",
    "                        input_shape=(331, 331, 3),\n",
    "                        module_name=\"nasnet\",\n",
    "                        last_conv_layer=\"normal_concat_18\",\n",
    "                    ),\n",
    "                    Xception=dict(\n",
    "                        input_shape=(299, 299, 3),\n",
    "                        module_name=\"xception\",\n",
    "                        last_conv_layer=\"block14_sepconv2_act\",\n",
    "                    ),\n",
    "                \n",
    "                )\n",
    "    \n",
    "    return models_"
   ]
  },
  {
   "cell_type": "markdown",
   "id": "a210d6dd-4b90-477c-ac9d-c3a3476de844",
   "metadata": {},
   "source": [
    "<a id = 3></a>\n",
    "### Controller"
   ]
  },
  {
   "cell_type": "code",
   "execution_count": null,
   "id": "00f736a4-b485-4cbd-a1a2-e0338742356d",
   "metadata": {},
   "outputs": [],
   "source": []
  }
 ],
 "metadata": {
  "kernelspec": {
   "display_name": "Python 3",
   "language": "python",
   "name": "python3"
  },
  "language_info": {
   "codemirror_mode": {
    "name": "ipython",
    "version": 3
   },
   "file_extension": ".py",
   "mimetype": "text/x-python",
   "name": "python",
   "nbconvert_exporter": "python",
   "pygments_lexer": "ipython3",
   "version": "3.8.8"
  }
 },
 "nbformat": 4,
 "nbformat_minor": 5
}
